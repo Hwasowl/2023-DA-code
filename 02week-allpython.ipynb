{
 "cells": [
  {
   "cell_type": "code",
   "execution_count": 1,
   "id": "106216c5",
   "metadata": {},
   "outputs": [
    {
     "name": "stdout",
     "output_type": "stream",
     "text": [
      "2024\n"
     ]
    }
   ],
   "source": [
    "a = 2024\n",
    "print(a)"
   ]
  },
  {
   "cell_type": "code",
   "execution_count": 3,
   "id": "a8a7da31",
   "metadata": {},
   "outputs": [],
   "source": [
    "birth = 2018"
   ]
  },
  {
   "cell_type": "code",
   "execution_count": 4,
   "id": "d2843684",
   "metadata": {},
   "outputs": [
    {
     "name": "stdout",
     "output_type": "stream",
     "text": [
      "6\n"
     ]
    }
   ],
   "source": [
    "print(2024 - birth)"
   ]
  },
  {
   "cell_type": "code",
   "execution_count": 5,
   "id": "fe3c7c8a",
   "metadata": {},
   "outputs": [
    {
     "name": "stdout",
     "output_type": "stream",
     "text": [
      "6\n"
     ]
    }
   ],
   "source": [
    "print(2024 - int(birth))"
   ]
  },
  {
   "cell_type": "code",
   "execution_count": 6,
   "id": "3d50d040",
   "metadata": {},
   "outputs": [
    {
     "name": "stdout",
     "output_type": "stream",
     "text": [
      "이름을 입력하세요박정수\n"
     ]
    }
   ],
   "source": [
    "name = input('이름을 입력하세요')"
   ]
  },
  {
   "cell_type": "code",
   "execution_count": 7,
   "id": "a47466b6",
   "metadata": {},
   "outputs": [
    {
     "name": "stdout",
     "output_type": "stream",
     "text": [
      "출생 년도를 입력하세요2002\n"
     ]
    }
   ],
   "source": [
    "birth = input('출생 년도를 입력하세요')"
   ]
  },
  {
   "cell_type": "code",
   "execution_count": 8,
   "id": "56912d00",
   "metadata": {},
   "outputs": [
    {
     "name": "stdout",
     "output_type": "stream",
     "text": [
      "이름을 입력하세요박정수\n",
      "출생 년도를 입력하세요2002\n",
      "안녕하세요박정수님!20세이군요~!\n"
     ]
    }
   ],
   "source": [
    "name = input('이름을 입력하세요')\n",
    "birth = input('출생 년도를 입력하세요')\n",
    "age = 2022-int(birth)\n",
    "print('안녕하세요' + name + '님!'+ str(age) + '세이군요~!')"
   ]
  },
  {
   "cell_type": "code",
   "execution_count": 9,
   "id": "98b4169d",
   "metadata": {},
   "outputs": [
    {
     "data": {
      "text/plain": [
       "True"
      ]
     },
     "execution_count": 9,
     "metadata": {},
     "output_type": "execute_result"
    }
   ],
   "source": [
    "bool(0.01)"
   ]
  },
  {
   "cell_type": "code",
   "execution_count": 10,
   "id": "234a18e4",
   "metadata": {},
   "outputs": [
    {
     "data": {
      "text/plain": [
       "False"
      ]
     },
     "execution_count": 10,
     "metadata": {},
     "output_type": "execute_result"
    }
   ],
   "source": [
    "bool('')"
   ]
  },
  {
   "cell_type": "code",
   "execution_count": 13,
   "id": "f186877b",
   "metadata": {},
   "outputs": [
    {
     "name": "stdout",
     "output_type": "stream",
     "text": [
      "0\n",
      "1\n",
      "2\n",
      "3\n",
      "4\n",
      "5\n",
      "6\n",
      "7\n",
      "8\n",
      "9\n"
     ]
    }
   ],
   "source": [
    "for num in range(10):\n",
    "    print(num)"
   ]
  },
  {
   "cell_type": "code",
   "execution_count": 16,
   "id": "81b6fa67",
   "metadata": {},
   "outputs": [
    {
     "name": "stdout",
     "output_type": "stream",
     "text": [
      "80\n",
      "70\n",
      "90\n",
      "100\n"
     ]
    }
   ],
   "source": [
    "test_score = [80,70,90,100]\n",
    "for score in test_score:\n",
    "    print(score)"
   ]
  },
  {
   "cell_type": "code",
   "execution_count": 19,
   "id": "9a748817",
   "metadata": {},
   "outputs": [
    {
     "name": "stdout",
     "output_type": "stream",
     "text": [
      "국어\n",
      "영어\n",
      "수학\n",
      "과학\n"
     ]
    }
   ],
   "source": [
    "test_name = ['국어', '영어', '수학', '과학']\n",
    "for name in test_name:\n",
    "    print(name)"
   ]
  },
  {
   "cell_type": "code",
   "execution_count": 20,
   "id": "ee307c41",
   "metadata": {},
   "outputs": [
    {
     "name": "stdout",
     "output_type": "stream",
     "text": [
      "안녕하세요!\n"
     ]
    }
   ],
   "source": [
    "if (10>0):\n",
    "    print('안녕하세요!')"
   ]
  },
  {
   "cell_type": "code",
   "execution_count": 21,
   "id": "b9e42320",
   "metadata": {},
   "outputs": [
    {
     "name": "stdout",
     "output_type": "stream",
     "text": [
      "입력하세요: 12345\n",
      "로그인 되었습니다\n"
     ]
    }
   ],
   "source": [
    "password = input('입력하세요: ')\n",
    "if(int(password) == 12345):\n",
    "    print('로그인 되었습니다')"
   ]
  },
  {
   "cell_type": "code",
   "execution_count": 22,
   "id": "a81e6318",
   "metadata": {},
   "outputs": [
    {
     "name": "stdout",
     "output_type": "stream",
     "text": [
      "월\n",
      "화\n",
      "수\n",
      "목\n",
      "금\n",
      "토\n"
     ]
    }
   ],
   "source": [
    "arr2 = ['월', '화', '수','목','금','토']\n",
    "print(arr2[0])\n",
    "print(arr2[1])\n",
    "print(arr2[2])\n",
    "print(arr2[3])\n",
    "print(arr2[4])\n",
    "print(arr2[5])"
   ]
  },
  {
   "cell_type": "code",
   "execution_count": null,
   "id": "33262aab",
   "metadata": {},
   "outputs": [],
   "source": [
    "number1 = input('숫자를 입력하세요')\n",
    "number2 = input('숫자를 입력하세요')\n",
    "if (number1 > number2):\n",
    "    print(number1)\n",
    "if (number1 == number2):\n",
    "    print(number1)\n",
    "else:\n",
    "    print(number2)"
   ]
  },
  {
   "cell_type": "code",
   "execution_count": null,
   "id": "29595828",
   "metadata": {},
   "outputs": [],
   "source": []
  },
  {
   "cell_type": "code",
   "execution_count": null,
   "id": "75f4320d",
   "metadata": {},
   "outputs": [],
   "source": []
  }
 ],
 "metadata": {
  "kernelspec": {
   "display_name": "Python 3 (ipykernel)",
   "language": "python",
   "name": "python3"
  },
  "language_info": {
   "codemirror_mode": {
    "name": "ipython",
    "version": 3
   },
   "file_extension": ".py",
   "mimetype": "text/x-python",
   "name": "python",
   "nbconvert_exporter": "python",
   "pygments_lexer": "ipython3",
   "version": "3.9.13"
  }
 },
 "nbformat": 4,
 "nbformat_minor": 5
}
